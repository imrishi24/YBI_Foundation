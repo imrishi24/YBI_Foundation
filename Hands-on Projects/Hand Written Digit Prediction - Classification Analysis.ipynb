{
 "cells": [
  {
   "cell_type": "markdown",
   "id": "78d70ac8",
   "metadata": {},
   "source": [
    "# Hand Written Digit Prediction - Classification Analysis"
   ]
  },
  {
   "cell_type": "markdown",
   "id": "6eb48584",
   "metadata": {},
   "source": [
    "## Import Library"
   ]
  },
  {
   "cell_type": "code",
   "execution_count": 1,
   "id": "dedd7a4d",
   "metadata": {},
   "outputs": [],
   "source": [
    "import pandas as pd\n",
    "import numpy as np\n",
    "import matplotlib.pyplot as plt\n",
    "import seaborn as sns"
   ]
  },
  {
   "cell_type": "markdown",
   "id": "3a9ea44b",
   "metadata": {},
   "source": [
    "## Import Data"
   ]
  },
  {
   "cell_type": "code",
   "execution_count": 2,
   "id": "841700ea",
   "metadata": {},
   "outputs": [],
   "source": [
    "from sklearn.datasets import load_digits"
   ]
  },
  {
   "cell_type": "code",
   "execution_count": 3,
   "id": "bf79ae09",
   "metadata": {},
   "outputs": [],
   "source": [
    "df = load_digits()"
   ]
  },
  {
   "cell_type": "code",
   "execution_count": 4,
   "id": "e37e0025",
   "metadata": {},
   "outputs": [
    {
     "data": {
      "image/png": "[encoded data removed]",
      "text/plain": [
       "<Figure size 720x216 with 4 Axes>"
      ]
     },
     "metadata": {
      "needs_background": "light"
     },
     "output_type": "display_data"
    }
   ],
   "source": [
    "_, axes = plt.subplots(nrows=1, ncols=4, figsize=(10,3))\n",
    "for ax, image, label in zip(axes, df.images, df.target):\n",
    "    ax.set_axis_off()\n",
    "    ax.imshow(image, cmap=plt.cm.gray_r, interpolation='nearest')\n",
    "    ax.set_title(\"Training: %i\" %label)"
   ]
  },
  {
   "cell_type": "markdown",
   "id": "8d72aa4e",
   "metadata": {},
   "source": [
    " ## Data Preprocessing \n",
    " ### Flatten Image"
   ]
  },
  {
   "cell_type": "code",
   "execution_count": 5,
   "id": "9a051b99",
   "metadata": {},
   "outputs": [
    {
     "data": {
      "text/plain": [
       "(1797, 8, 8)"
      ]
     },
     "execution_count": 5,
     "metadata": {},
     "output_type": "execute_result"
    }
   ],
   "source": [
    "df.images.shape"
   ]
  },
  {
   "cell_type": "code",
   "execution_count": 6,
   "id": "0e6ce3cc",
   "metadata": {},
   "outputs": [
    {
     "data": {
      "text/plain": [
       "array([[ 0.,  0.,  5., 13.,  9.,  1.,  0.,  0.],\n",
       "       [ 0.,  0., 13., 15., 10., 15.,  5.,  0.],\n",
       "       [ 0.,  3., 15.,  2.,  0., 11.,  8.,  0.],\n",
       "       [ 0.,  4., 12.,  0.,  0.,  8.,  8.,  0.],\n",
       "       [ 0.,  5.,  8.,  0.,  0.,  9.,  8.,  0.],\n",
       "       [ 0.,  4., 11.,  0.,  1., 12.,  7.,  0.],\n",
       "       [ 0.,  2., 14.,  5., 10., 12.,  0.,  0.],\n",
       "       [ 0.,  0.,  6., 13., 10.,  0.,  0.,  0.]])"
      ]
     },
     "execution_count": 6,
     "metadata": {},
     "output_type": "execute_result"
    }
   ],
   "source": [
    "df.images[0]"
   ]
  },
  {
   "cell_type": "code",
   "execution_count": 7,
   "id": "2a91e74f",
   "metadata": {},
   "outputs": [
    {
     "data": {
      "text/plain": [
       "(8, 8)"
      ]
     },
     "execution_count": 7,
     "metadata": {},
     "output_type": "execute_result"
    }
   ],
   "source": [
    "df.images[0].shape"
   ]
  },
  {
   "cell_type": "code",
   "execution_count": 8,
   "id": "4a748081",
   "metadata": {},
   "outputs": [],
   "source": [
    "n_smaples = len(df.images)\n",
    "data = df.images.reshape((n_smaples, -1))"
   ]
  },
  {
   "cell_type": "code",
   "execution_count": 9,
   "id": "340824a9",
   "metadata": {},
   "outputs": [
    {
     "data": {
      "text/plain": [
       "array([ 0.,  0.,  5., 13.,  9.,  1.,  0.,  0.,  0.,  0., 13., 15., 10.,\n",
       "       15.,  5.,  0.,  0.,  3., 15.,  2.,  0., 11.,  8.,  0.,  0.,  4.,\n",
       "       12.,  0.,  0.,  8.,  8.,  0.,  0.,  5.,  8.,  0.,  0.,  9.,  8.,\n",
       "        0.,  0.,  4., 11.,  0.,  1., 12.,  7.,  0.,  0.,  2., 14.,  5.,\n",
       "       10., 12.,  0.,  0.,  0.,  0.,  6., 13., 10.,  0.,  0.,  0.])"
      ]
     },
     "execution_count": 9,
     "metadata": {},
     "output_type": "execute_result"
    }
   ],
   "source": [
    "data[0]"
   ]
  },
  {
   "cell_type": "code",
   "execution_count": 10,
   "id": "0951f540",
   "metadata": {},
   "outputs": [
    {
     "data": {
      "text/plain": [
       "(64,)"
      ]
     },
     "execution_count": 10,
     "metadata": {},
     "output_type": "execute_result"
    }
   ],
   "source": [
    "data[0].shape"
   ]
  },
  {
   "cell_type": "code",
   "execution_count": 11,
   "id": "bbef669c",
   "metadata": {},
   "outputs": [
    {
     "data": {
      "text/plain": [
       "(1797, 64)"
      ]
     },
     "execution_count": 11,
     "metadata": {},
     "output_type": "execute_result"
    }
   ],
   "source": [
    "data.shape"
   ]
  },
  {
   "cell_type": "markdown",
   "id": "2b73f90d",
   "metadata": {},
   "source": [
    "## Scaling Data"
   ]
  },
  {
   "cell_type": "code",
   "execution_count": 12,
   "id": "800d568f",
   "metadata": {},
   "outputs": [
    {
     "data": {
      "text/plain": [
       "0.0"
      ]
     },
     "execution_count": 12,
     "metadata": {},
     "output_type": "execute_result"
    }
   ],
   "source": [
    "data.min()"
   ]
  },
  {
   "cell_type": "code",
   "execution_count": 13,
   "id": "07fedd11",
   "metadata": {},
   "outputs": [
    {
     "data": {
      "text/plain": [
       "16.0"
      ]
     },
     "execution_count": 13,
     "metadata": {},
     "output_type": "execute_result"
    }
   ],
   "source": [
    "data.max()"
   ]
  },
  {
   "cell_type": "code",
   "execution_count": 14,
   "id": "6420a9bf",
   "metadata": {},
   "outputs": [],
   "source": [
    "data=data/16"
   ]
  },
  {
   "cell_type": "code",
   "execution_count": 15,
   "id": "319b1d63",
   "metadata": {},
   "outputs": [
    {
     "data": {
      "text/plain": [
       "0.0"
      ]
     },
     "execution_count": 15,
     "metadata": {},
     "output_type": "execute_result"
    }
   ],
   "source": [
    "data.min()"
   ]
  },
  {
   "cell_type": "code",
   "execution_count": 16,
   "id": "38ff01ee",
   "metadata": {},
   "outputs": [
    {
     "data": {
      "text/plain": [
       "1.0"
      ]
     },
     "execution_count": 16,
     "metadata": {},
     "output_type": "execute_result"
    }
   ],
   "source": [
    "data.max()"
   ]
  },
  {
   "cell_type": "code",
   "execution_count": 17,
   "id": "e492ce4a",
   "metadata": {},
   "outputs": [
    {
     "data": {
      "text/plain": [
       "array([0.    , 0.    , 0.3125, 0.8125, 0.5625, 0.0625, 0.    , 0.    ,\n",
       "       0.    , 0.    , 0.8125, 0.9375, 0.625 , 0.9375, 0.3125, 0.    ,\n",
       "       0.    , 0.1875, 0.9375, 0.125 , 0.    , 0.6875, 0.5   , 0.    ,\n",
       "       0.    , 0.25  , 0.75  , 0.    , 0.    , 0.5   , 0.5   , 0.    ,\n",
       "       0.    , 0.3125, 0.5   , 0.    , 0.    , 0.5625, 0.5   , 0.    ,\n",
       "       0.    , 0.25  , 0.6875, 0.    , 0.0625, 0.75  , 0.4375, 0.    ,\n",
       "       0.    , 0.125 , 0.875 , 0.3125, 0.625 , 0.75  , 0.    , 0.    ,\n",
       "       0.    , 0.    , 0.375 , 0.8125, 0.625 , 0.    , 0.    , 0.    ])"
      ]
     },
     "execution_count": 17,
     "metadata": {},
     "output_type": "execute_result"
    }
   ],
   "source": [
    "data[0]"
   ]
  },
  {
   "cell_type": "markdown",
   "id": "c69f35f7",
   "metadata": {},
   "source": [
    "## Train Test Split Data"
   ]
  },
  {
   "cell_type": "code",
   "execution_count": 18,
   "id": "1de2b88c",
   "metadata": {},
   "outputs": [],
   "source": [
    "from sklearn.model_selection import train_test_split\n",
    "x_train, x_test, y_train, y_test = train_test_split(data,df.target,test_size=0.3, random_state=182529)"
   ]
  },
  {
   "cell_type": "code",
   "execution_count": 19,
   "id": "ddadb75d",
   "metadata": {},
   "outputs": [
    {
     "data": {
      "text/plain": [
       "((1257, 64), (540, 64), (1257,), (540,))"
      ]
     },
     "execution_count": 19,
     "metadata": {},
     "output_type": "execute_result"
    }
   ],
   "source": [
    "x_train.shape, x_test.shape, y_train.shape, y_test.shape"
   ]
  },
  {
   "cell_type": "markdown",
   "id": "13c3c167",
   "metadata": {},
   "source": [
    "## Random Forest Model"
   ]
  },
  {
   "cell_type": "code",
   "execution_count": 20,
   "id": "86e524cd",
   "metadata": {},
   "outputs": [],
   "source": [
    "from sklearn.ensemble import RandomForestClassifier\n",
    "rf = RandomForestClassifier()"
   ]
  },
  {
   "cell_type": "code",
   "execution_count": 21,
   "id": "ef728b0c",
   "metadata": {},
   "outputs": [
    {
     "data": {
      "text/plain": [
       "RandomForestClassifier()"
      ]
     },
     "execution_count": 21,
     "metadata": {},
     "output_type": "execute_result"
    }
   ],
   "source": [
    "rf.fit(x_train, y_train)"
   ]
  },
  {
   "cell_type": "markdown",
   "id": "61a7fa62",
   "metadata": {},
   "source": [
    "## Predict Test Data"
   ]
  },
  {
   "cell_type": "code",
   "execution_count": 22,
   "id": "e17b8710",
   "metadata": {},
   "outputs": [],
   "source": [
    "y_pred = rf.predict(x_test)"
   ]
  },
  {
   "cell_type": "code",
   "execution_count": 23,
   "id": "a2d93dea",
   "metadata": {},
   "outputs": [
    {
     "data": {
      "text/plain": [
       "array([4, 6, 4, 9, 8, 1, 0, 3, 7, 7, 0, 2, 1, 5, 6, 7, 5, 5, 6, 9, 8, 4,\n",
       "       4, 1, 9, 8, 8, 8, 5, 0, 6, 7, 1, 5, 3, 4, 7, 0, 4, 6, 7, 1, 2, 8,\n",
       "       1, 2, 9, 0, 2, 8, 5, 0, 5, 8, 8, 8, 4, 3, 3, 0, 1, 9, 5, 9, 2, 5,\n",
       "       6, 5, 9, 8, 1, 3, 2, 1, 6, 0, 3, 6, 9, 0, 3, 3, 1, 3, 7, 4, 0, 9,\n",
       "       3, 8, 2, 2, 2, 8, 7, 8, 9, 7, 2, 8, 7, 9, 3, 3, 4, 7, 7, 4, 9, 5,\n",
       "       3, 9, 1, 4, 2, 2, 6, 7, 8, 6, 3, 1, 3, 5, 1, 5, 7, 7, 1, 9, 7, 2,\n",
       "       7, 6, 0, 0, 4, 3, 8, 8, 1, 8, 9, 4, 6, 7, 6, 4, 9, 5, 2, 7, 1, 5,\n",
       "       8, 0, 3, 6, 6, 5, 0, 9, 1, 4, 4, 6, 3, 7, 0, 3, 8, 8, 3, 7, 2, 4,\n",
       "       2, 0, 9, 6, 2, 7, 4, 0, 7, 3, 5, 1, 3, 1, 3, 5, 3, 1, 5, 0, 5, 8,\n",
       "       1, 6, 6, 5, 8, 4, 6, 3, 9, 0, 6, 5, 1, 9, 3, 5, 2, 5, 3, 8, 9, 5,\n",
       "       4, 6, 7, 9, 5, 4, 3, 3, 4, 0, 8, 0, 2, 0, 1, 7, 4, 2, 9, 5, 4, 7,\n",
       "       5, 8, 5, 3, 1, 7, 7, 5, 6, 3, 7, 3, 8, 4, 4, 7, 0, 1, 9, 8, 3, 1,\n",
       "       3, 6, 5, 7, 1, 5, 4, 8, 0, 6, 2, 4, 3, 0, 5, 7, 4, 3, 1, 3, 0, 3,\n",
       "       1, 0, 1, 4, 6, 8, 3, 6, 3, 8, 7, 6, 7, 5, 3, 7, 8, 8, 6, 6, 6, 6,\n",
       "       6, 5, 9, 7, 2, 8, 4, 6, 1, 6, 4, 0, 7, 8, 2, 9, 4, 2, 8, 9, 7, 1,\n",
       "       6, 4, 5, 4, 3, 2, 4, 3, 5, 0, 3, 1, 6, 3, 0, 6, 1, 5, 6, 5, 4, 2,\n",
       "       9, 8, 1, 3, 8, 7, 0, 0, 9, 0, 1, 2, 7, 4, 5, 9, 6, 2, 0, 0, 2, 8,\n",
       "       3, 5, 1, 1, 9, 1, 0, 7, 8, 8, 8, 6, 9, 1, 2, 5, 9, 9, 7, 3, 3, 7,\n",
       "       0, 1, 8, 3, 3, 2, 4, 4, 9, 0, 1, 6, 3, 0, 1, 3, 8, 1, 2, 3, 2, 3,\n",
       "       0, 7, 9, 6, 0, 9, 5, 6, 2, 1, 4, 5, 0, 6, 8, 8, 2, 7, 7, 8, 5, 9,\n",
       "       2, 9, 7, 8, 0, 6, 9, 0, 6, 1, 4, 2, 7, 2, 3, 9, 6, 8, 1, 3, 7, 9,\n",
       "       6, 7, 2, 8, 2, 3, 1, 7, 0, 7, 9, 0, 6, 3, 9, 4, 9, 2, 6, 7, 6, 3,\n",
       "       3, 4, 1, 1, 4, 8, 5, 2, 0, 4, 8, 2, 9, 9, 1, 2, 6, 4, 3, 2, 0, 7,\n",
       "       5, 4, 4, 5, 0, 2, 2, 3, 6, 5, 7, 7, 5, 4, 3, 2, 2, 9, 2, 4, 5, 6,\n",
       "       6, 0, 6, 0, 0, 7, 6, 7, 9, 9, 0, 9])"
      ]
     },
     "execution_count": 23,
     "metadata": {},
     "output_type": "execute_result"
    }
   ],
   "source": [
    "y_pred"
   ]
  },
  {
   "cell_type": "markdown",
   "id": "47764b0c",
   "metadata": {},
   "source": [
    "## Model Accuracy "
   ]
  },
  {
   "cell_type": "code",
   "execution_count": 24,
   "id": "03d855df",
   "metadata": {},
   "outputs": [],
   "source": [
    "from sklearn.metrics import confusion_matrix, classification_report"
   ]
  },
  {
   "cell_type": "code",
   "execution_count": 25,
   "id": "0f6a8cae",
   "metadata": {},
   "outputs": [
    {
     "data": {
      "text/plain": [
       "array([[53,  0,  0,  0,  1,  0,  0,  0,  0,  0],\n",
       "       [ 0, 50,  0,  0,  0,  0,  0,  0,  0,  0],\n",
       "       [ 0,  1, 49,  0,  0,  0,  0,  0,  0,  0],\n",
       "       [ 0,  0,  0, 64,  0,  0,  0,  0,  0,  0],\n",
       "       [ 0,  0,  0,  0, 49,  0,  0,  0,  0,  0],\n",
       "       [ 0,  0,  0,  0,  0, 50,  1,  0,  1,  0],\n",
       "       [ 0,  0,  0,  0,  0,  0, 57,  0,  0,  0],\n",
       "       [ 0,  0,  0,  0,  0,  0,  0, 58,  0,  0],\n",
       "       [ 0,  0,  1,  0,  1,  0,  0,  0, 51,  0],\n",
       "       [ 0,  0,  0,  0,  0,  1,  0,  0,  1, 51]], dtype=int64)"
      ]
     },
     "execution_count": 25,
     "metadata": {},
     "output_type": "execute_result"
    }
   ],
   "source": [
    "confusion_matrix(y_test, y_pred)"
   ]
  },
  {
   "cell_type": "code",
   "execution_count": 26,
   "id": "2621edc8",
   "metadata": {},
   "outputs": [
    {
     "name": "stdout",
     "output_type": "stream",
     "text": [
      "              precision    recall  f1-score   support\n",
      "\n",
      "           0       1.00      0.98      0.99        54\n",
      "           1       0.98      1.00      0.99        50\n",
      "           2       0.98      0.98      0.98        50\n",
      "           3       1.00      1.00      1.00        64\n",
      "           4       0.96      1.00      0.98        49\n",
      "           5       0.98      0.96      0.97        52\n",
      "           6       0.98      1.00      0.99        57\n",
      "           7       1.00      1.00      1.00        58\n",
      "           8       0.96      0.96      0.96        53\n",
      "           9       1.00      0.96      0.98        53\n",
      "\n",
      "    accuracy                           0.99       540\n",
      "   macro avg       0.98      0.98      0.98       540\n",
      "weighted avg       0.99      0.99      0.99       540\n",
      "\n"
     ]
    }
   ],
   "source": [
    "print(classification_report(y_test,y_pred))"
   ]
  }
 ],
 "metadata": {
  "kernelspec": {
   "display_name": "Python 3 (ipykernel)",
   "language": "python",
   "name": "python3"
  },
  "language_info": {
   "codemirror_mode": {
    "name": "ipython",
    "version": 3
   },
   "file_extension": ".py",
   "mimetype": "text/x-python",
   "name": "python",
   "nbconvert_exporter": "python",
   "pygments_lexer": "ipython3",
   "version": "3.9.9"
  }
 },
 "nbformat": 4,
 "nbformat_minor": 5
}
